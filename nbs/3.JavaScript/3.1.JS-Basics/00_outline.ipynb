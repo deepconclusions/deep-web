{
 "cells": [
  {
   "cell_type": "markdown",
   "metadata": {},
   "source": []
  },
  {
   "cell_type": "markdown",
   "metadata": {},
   "source": [
    "## JavaScript Course Outline"
   ]
  },
  {
   "cell_type": "markdown",
   "metadata": {},
   "source": [
    "### Basics\n",
    "\n",
    "- Overview\n",
    "- Introduction\n",
    "- Writing Code\n",
    "- Displaying Output\n",
    "- Statements\n",
    "- Syntax\n",
    "- Comments\n",
    "- Variables\n",
    "- Functions\n",
    "- Events"
   ]
  },
  {
   "cell_type": "markdown",
   "metadata": {},
   "source": [
    "### Data Types\n",
    "\n",
    "- String\n",
    "- Number\n",
    "- Boolean\n",
    "- Object\n",
    "- Array\n",
    "- Undefined\n",
    "- Null\n",
    "- Dynamic"
   ]
  },
  {
   "cell_type": "markdown",
   "metadata": {},
   "source": [
    "### Operators\n",
    "\n",
    "- Operators\n",
    "- Arithmetic\n",
    "- Assignment\n",
    "- Comparison\n",
    "- Logical and Conditional\n",
    "- Bitwise Operators"
   ]
  },
  {
   "cell_type": "markdown",
   "metadata": {},
   "source": [
    "### Flow Control\n",
    "\n",
    "- The `if...else` statement\n",
    "- The switch statement\n",
    "- For Loop\n",
    "- While Loop\n",
    "- Break and Continue\n",
    "- Timeout and Interval\n",
    "- Exception Handling"
   ]
  },
  {
   "cell_type": "markdown",
   "metadata": {},
   "source": [
    "### Advanced\n",
    "\n",
    "- Variable Scope\n",
    "- Variable Hoisting\n",
    "- Strict Mode\n",
    "- `let`\n",
    "- `const`\n",
    "- Dates\n",
    "- Date Formats\n",
    "- Date Get Methods\n",
    "- Date Set Methods\n",
    "- `this` Keyword\n",
    "- Arrow Function\n",
    "- Classes\n",
    "- JSON\n",
    "- Forms\n",
    "- Form Inputs\n",
    "- Reserved Keywords\n",
    "- Function Invocation\n",
    "- Regular Expressions"
   ]
  },
  {
   "cell_type": "markdown",
   "metadata": {},
   "source": [
    "### HTML DOM\n",
    "\n",
    "- Introduction\n",
    "- Selectors\n",
    "- Nodes\n",
    "- Navigation\n",
    "- HTML\n",
    "- CSS or Styling\n",
    "- Effects\n",
    "- Events"
   ]
  },
  {
   "cell_type": "markdown",
   "metadata": {},
   "source": [
    "### BOM\n",
    "\n",
    "- Window\n",
    "- Screen\n",
    "- Location\n",
    "- History\n",
    "- Navigator\n",
    "- Pop-up Boxes\n",
    "- Cookies"
   ]
  },
  {
   "cell_type": "markdown",
   "metadata": {},
   "source": [
    "### JAX\n",
    "\n",
    "- Introduction\n",
    "- `XMLHttpsRequest`\n",
    "- Send Request\n",
    "- Recieve Response"
   ]
  },
  {
   "cell_type": "markdown",
   "metadata": {},
   "source": [
    "<div class=\"p-3\">\n",
    "<p class=pb-1>\n",
    "Don't miss out on any updates and developments! Subscribe to the deepconclusions Newsletter it's easy and safe.\n",
    "</p>\n",
    "<iframe src=\"https://embeds.beehiiv.com/5fc7c425-9c7e-4e08-a514-ad6c22beee74?slim=true\" data-test-id=\"beehiiv-embed\" height=\"52\" frameborder=\"0\" scrolling=\"no\" style=\"margin: 0; border-radius: 0px !important; background-color: transparent; width: 100%;\" ></iframe>\n",
    "</div>"
   ]
  }
 ],
 "metadata": {},
 "nbformat": 4,
 "nbformat_minor": 2
}
