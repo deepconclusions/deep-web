{
  "cells": [
    {
      "cell_type": "markdown",
      "metadata": {},
      "source": [
        "# HTML Styles"
      ]
    },
    {
      "cell_type": "markdown",
      "metadata": {},
      "source": [
        ""
      ]
    },
    {
      "cell_type": "markdown",
      "metadata": {},
      "source": [
        "## Styles\n",
        "\n",
        "HTML Styles are used to style HTML elements it also means changing the default values.\n",
        "\n",
        "For instance, styling cna change the default values of the text color as black, background color as white, text alignment as left and text size as 12 pixels.\n",
        "\n",
        "### Internal Style Sheet (internal styling)\n",
        "Using an internal style sheet is also called internal styling.\n",
        "\n",
        "An internal style sheet is composed of one or more cascading style sheet (css) rule set.\n",
        "\n",
        "A CSS rule-set consists of a selector and a declaration block sorrounded by curly braces that contains one or more CSS declarations separated by semicolons.\n",
        "\n",
        "Each declaration includes a CSS property name and a value, separated by a colon.\n",
        "\n",
        "They are all enclosed inside the `<style>` element with its `type=\"text/css\"` attribute which is included inside the `<head>` element.\n",
        "\n",
        "### Internal Style Sheet Syntax\n",
        "```html\n",
        "<style type=\"text/css\">\n",
        "  p{\n",
        "    font-size: 14px;\n",
        "  }\n",
        "```\n",
        "<div class=\"alert text-white rounded\" style=\"background: #3a6e68;\"><h4>Note!</h4><p>There will be alot of Internal Styling examples throughout the entire tutorial so just keep going and enjoy!</p></div>\n",
        "\n",
        "### Inline Syling\n",
        "Inline styling is used to style elements using the `style` attribute with CSS declaration inside which are similar to internal styling.\n",
        "\n",
        "### Inline Styling Syntax\n",
        "```html\n",
        "<div style=\"property: value; property: value;\"></div>\n",
        "```\n",
        "### Background Color Example\n",
        "<p class=\"codepen\" data-theme-id=\"light\" data-height=\"300\" data-default-tab=\"html,result\" data-slug-hash=\"NWVamPW\" data-pen-title=\"Untitled\" data-user=\"deepconclusions\" style=\"height: 300px; box-sizing: border-box; display: flex; align-items: center; justify-content: center; border: 2px solid; margin: 1em 0; padding: 1em;\">\n",
        "  <span>See the Pen <a href=\"https://codepen.io/deepconclusions/pen/NWVamPW\">\n",
        "  Untitled</a> by deepconclusions (<a href=\"https://codepen.io/deepconclusions\">@deepconclusions</a>)\n",
        "  on <a href=\"https://codepen.io\">CodePen</a>.</span>\n",
        "</p>\n",
        "<script async src=\"https://cpwebassets.codepen.io/assets/embed/ei.js\"></script>\n",
        "\n",
        "### Text Color Example\n",
        "<p class=\"codepen\" data-theme-id=\"light\" data-height=\"300\" data-default-tab=\"html,result\" data-slug-hash=\"rNgGbVy\" data-pen-title=\"Untitled\" data-user=\"deepconclusions\" style=\"height: 300px; box-sizing: border-box; display: flex; align-items: center; justify-content: center; border: 2px solid; margin: 1em 0; padding: 1em;\">\n",
        "  <span>See the Pen <a href=\"https://codepen.io/deepconclusions/pen/rNgGbVy\">\n",
        "  Untitled</a> by deepconclusions (<a href=\"https://codepen.io/deepconclusions\">@deepconclusions</a>)\n",
        "  on <a href=\"https://codepen.io\">CodePen</a>.</span>\n",
        "</p>\n",
        "<script async src=\"https://cpwebassets.codepen.io/assets/embed/ei.js\"></script>\n",
        "\n",
        "### Text Sizing Example\n",
        "<p class=\"codepen\" data-theme-id=\"light\" data-height=\"300\" data-default-tab=\"html,result\" data-slug-hash=\"LYozvpm\" data-pen-title=\"Text Sizing Example\" data-user=\"deepconclusions\" style=\"height: 300px; box-sizing: border-box; display: flex; align-items: center; justify-content: center; border: 2px solid; margin: 1em 0; padding: 1em;\">\n",
        "  <span>See the Pen <a href=\"https://codepen.io/deepconclusions/pen/LYozvpm\">\n",
        "  Text Sizing Example</a> by deepconclusions (<a href=\"https://codepen.io/deepconclusions\">@deepconclusions</a>)\n",
        "  on <a href=\"https://codepen.io\">CodePen</a>.</span>\n",
        "</p>\n",
        "<script async src=\"https://cpwebassets.codepen.io/assets/embed/ei.js\"></script>"
      ]
    },
    {
      "cell_type": "markdown",
      "metadata": {},
      "source": [
        "<p class=pb-1>\n",
        "To be among the first to hear about future updates of the course materials, simply enter your email below, follow us on <a href=\"https://x.com/deepconclusions\"><i class=\"bi bi-twitter-x\"></i>\n",
        " (formally Twitter)</a>, or subscribe to our <a href=\"https://www.youtube.com/@deepconclusions\"><i class=\"bi bi-youtube\"></i> YouTube channel</a>.\n",
        "</p>\n",
        "<iframe src=\"https://embeds.beehiiv.com/5fc7c425-9c7e-4e08-a514-ad6c22beee74?slim=true\" data-test-id=\"beehiiv-embed\" height=\"52\" frameborder=\"0\" scrolling=\"no\" style=\"margin: 0; border-radius: 0px !important; background-color: transparent; width: 100%;\" ></iframe>\n",
        "\n",
        "<script async src=\"https://pagead2.googlesyndication.com/pagead/js/adsbygoogle.js?client=ca-pub-8076040302380238\"\n",
        "     crossorigin=\"anonymous\"></script>\n",
        "<!-- inline_horizontal -->\n",
        "<ins class=\"adsbygoogle\"\n",
        "     style=\"display:block\"\n",
        "     data-ad-client=\"ca-pub-8076040302380238\"\n",
        "     data-ad-slot=\"9021194372\"\n",
        "     data-ad-format=\"auto\"\n",
        "     data-full-width-responsive=\"true\"></ins>\n",
        "<script>\n",
        "     (adsbygoogle = window.adsbygoogle || []).push({});\n",
        "</script>"
      ]
    }
  ],
  "metadata": {},
  "nbformat": 4,
  "nbformat_minor": 2
}
