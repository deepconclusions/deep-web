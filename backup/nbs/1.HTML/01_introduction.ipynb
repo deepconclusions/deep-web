{
  "cells": [
    {
      "cell_type": "markdown",
      "metadata": {},
      "source": [
        "## HTML Introduction"
      ]
    },
    {
      "cell_type": "markdown",
      "metadata": {},
      "source": [
        ""
      ]
    },
    {
      "cell_type": "markdown",
      "metadata": {},
      "source": [
        "## What is HTML?\n",
        "HTML stands for Hyper Text Markup Language, it is easy and fun to learn. \n",
        "\n",
        "HTML describes the structure of web pages\n",
        "\n",
        "HTML5 is the fith and current major version of the HTML standard.\n",
        "\n",
        "## Why learn HTML5?\n",
        "It is essential to learn HTML if you want to build websites, you can't build one if you don't know HTML because it's one of the prerequisites in learning other languages used for web development.\n",
        "\n",
        "<script async src=\"//jsfiddle.net/deepconclusions/pzve2m5g/1/embed/html,result/\"></script>"
      ]
    },
    {
      "cell_type": "markdown",
      "metadata": {},
      "source": [
        "Let's break down what's happening here:\n",
        "\n",
        "- `<!DOCTYPE html>`: This declaration tells the web browser that the document is written in HTML5, the latest version of HTML.\n",
        "- `<html>`: This tag represents the root of the HTML document.\n",
        "- `<head>`: This section contains meta-information about the HTML document, such as the title, character encoding, etc.\n",
        "- `<title>`: This tag sets the title of the webpage, which appears in the browser's title bar or tab.\n",
        "- `<body>`: This is where the main content of the webpage goes.\n",
        "- `<h1>`, `<h2>`: These are header tags used to create headings of different levels.\n",
        "- `<p>`: This tag is used to define a paragraph of text.\n",
        "- `<ul>`, `<li>`: These tags are used to create an unordered list and list items, respectively.\n",
        "- `<img>`: This tag is used to insert an image into the webpage. The `src` attribute specifies the path to the image file, and the `alt` attribute provides alternative text for accessibility purposes.\n"
      ]
    },
    {
      "cell_type": "markdown",
      "metadata": {},
      "source": [
        "## HTML Tags\n",
        "HTML Tags are element names surrounded by angle brackets. \n",
        "\n",
        "In HTML we start and end tags. Look at the example below\n",
        "\n",
        "```html\n",
        "<p>Hello, welcome to our HTML course</p>\n",
        "```"
      ]
    },
    {
      "cell_type": "markdown",
      "metadata": {},
      "source": [
        "## Start Tag and End Tag\n",
        "\n",
        "- Start tag - also called \"opening tag\" eg. `<p>`\n",
        "- End tag - also called \"ending tag\" eg `</p>`\n",
        "\n",
        "This is the basic structure of any HTML page. Memorize them!\n",
        "\n",
        "```html\n",
        "<!DOCTYPE html>\n",
        "<html>\n",
        "    <head>\n",
        "        <title>Hello World!</title>\n",
        "    </head>\n",
        "    <body>\n",
        "        \n",
        "    </body>\n",
        "</html>\n",
        "```"
      ]
    },
    {
      "cell_type": "markdown",
      "metadata": {},
      "source": [
        "Learning HTML is essential for anyone interested in web development or content creation on the internet because:\n",
        "\n",
        "1. **Foundation of Web Development**: HTML is the backbone of web development. It's the first language you'll need to learn when starting to build web pages.\n",
        "\n",
        "2. **Universal Language**: HTML is supported by all web browsers and is the standard language for creating web pages, making it a fundamental skill for anyone working on the web.\n",
        "\n",
        "3. **Understanding Web Structure**: Learning HTML teaches you how web pages are structured and how different elements interact with each other, which is crucial for effective web design and development.\n",
        "\n",
        "4. **Gateway to Other Technologies**: HTML often goes hand-in-hand with other web technologies like CSS (Cascading Style Sheets) for styling and JavaScript for interactivity. Understanding HTML is the first step toward mastering these other technologies.\n",
        "\n",
        "In summary, HTML is the building block of the web, and learning it is the first step toward becoming proficient in web development and design."
      ]
    },
    {
      "cell_type": "markdown",
      "metadata": {},
      "source": [
        "<p class=pb-1>\n",
        "To be among the first to hear about future updates of the course materials, simply enter your email below, follow us on <a href=\"https://x.com/deepconclusions\"><i class=\"bi bi-twitter-x\"></i>\n",
        " (formally Twitter)</a>, or subscribe to our <a href=\"https://www.youtube.com/@deepconclusions\"><i class=\"bi bi-youtube\"></i> YouTube channel</a>.\n",
        "</p>\n",
        "<iframe src=\"https://embeds.beehiiv.com/5fc7c425-9c7e-4e08-a514-ad6c22beee74?slim=true\" data-test-id=\"beehiiv-embed\" height=\"52\" frameborder=\"0\" scrolling=\"no\" style=\"margin: 0; border-radius: 0px !important; background-color: transparent; width: 100%;\" ></iframe>\n",
        "\n",
        "<script async src=\"https://pagead2.googlesyndication.com/pagead/js/adsbygoogle.js?client=ca-pub-8076040302380238\"\n",
        "     crossorigin=\"anonymous\"></script>\n",
        "<!-- inline_horizontal -->\n",
        "<ins class=\"adsbygoogle\"\n",
        "     style=\"display:block\"\n",
        "     data-ad-client=\"ca-pub-8076040302380238\"\n",
        "     data-ad-slot=\"9021194372\"\n",
        "     data-ad-format=\"auto\"\n",
        "     data-full-width-responsive=\"true\"></ins>\n",
        "<script>\n",
        "     (adsbygoogle = window.adsbygoogle || []).push({});\n",
        "</script>"
      ]
    }
  ],
  "metadata": {},
  "nbformat": 4,
  "nbformat_minor": 2
}
