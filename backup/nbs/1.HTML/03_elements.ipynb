{
  "cells": [
    {
      "cell_type": "markdown",
      "metadata": {},
      "source": [
        "## HTML Elements"
      ]
    },
    {
      "cell_type": "markdown",
      "metadata": {},
      "source": [
        ""
      ]
    },
    {
      "cell_type": "markdown",
      "metadata": {},
      "source": [
        "In the first lesson, we have studied about tags and things like start tag and end tag.\n",
        "\n",
        "An HTML element is usually composed of a \"start tag\", \"element content\" and \"end tag\"\n",
        "\n",
        "Example:\n",
        "<script async src=\"//jsfiddle.net/deepconclusions/70ek34sn/3/embed/html,result/\"></script>\n",
        "\n",
        "This example HTML Element above is composed of the following:\n",
        "\n",
        "- start tag: `<p>`\n",
        "- element content:\n",
        "`This is an element content`\n",
        "- end tag: `</p>`\n",
        "\n",
        "### Nested HTML Elements\n",
        "\n",
        "There are some cases that an HTML element can contain one or more HTML elements.\n",
        "\n",
        "For you to better understand it look at the example below.\n",
        "<script async src=\"//jsfiddle.net/deepconclusions/n2ug40bp/embed/html,result/\"></script>\n",
        "\n",
        "The example nested HTML Elements above are composed of the following:\n",
        "\n",
        "- Start tag. `<p>`\n",
        "- Start tag. `<i>`\n",
        "- Element Content. `Italicized text`\n",
        "- End tag `</i>`\n",
        "- End tag `</p>`\n",
        "\n",
        "On the example above, there are two start tags and two end tags\n",
        "\n",
        "The second tag ie. `<i>` italicizes the text within.\n",
        "\n",
        "### Empty Elements\n",
        "Empty Elements are elements that do not have an element content and an end tag.\n",
        "\n",
        "A list of commonly used Empty Elements:\n",
        "\n",
        "- `<meta />`\n",
        "- `<link />`\n",
        "- `<img />`\n",
        "- `<br />`\n",
        "- `<hr />`\n",
        "- `<input />`\n",
        "\n",
        "The best practice in HTML Empty Elements is to always put a forward slash `/` sign before the greater than sign.\n",
        "\n",
        "In this way, they are closed at their start tags."
      ]
    },
    {
      "cell_type": "markdown",
      "metadata": {},
      "source": [
        "<p class=pb-1>\n",
        "To be among the first to hear about future updates of the course materials, simply enter your email below, follow us on <a href=\"https://x.com/deepconclusions\"><i class=\"bi bi-twitter-x\"></i>\n",
        " (formally Twitter)</a>, or subscribe to our <a href=\"https://www.youtube.com/@deepconclusions\"><i class=\"bi bi-youtube\"></i> YouTube channel</a>.\n",
        "</p>\n",
        "<iframe src=\"https://embeds.beehiiv.com/5fc7c425-9c7e-4e08-a514-ad6c22beee74?slim=true\" data-test-id=\"beehiiv-embed\" height=\"52\" frameborder=\"0\" scrolling=\"no\" style=\"margin: 0; border-radius: 0px !important; background-color: transparent; width: 100%;\" ></iframe>\n",
        "\n",
        "<script async src=\"https://pagead2.googlesyndication.com/pagead/js/adsbygoogle.js?client=ca-pub-8076040302380238\"\n",
        "     crossorigin=\"anonymous\"></script>\n",
        "<!-- inline_horizontal -->\n",
        "<ins class=\"adsbygoogle\"\n",
        "     style=\"display:block\"\n",
        "     data-ad-client=\"ca-pub-8076040302380238\"\n",
        "     data-ad-slot=\"9021194372\"\n",
        "     data-ad-format=\"auto\"\n",
        "     data-full-width-responsive=\"true\"></ins>\n",
        "<script>\n",
        "     (adsbygoogle = window.adsbygoogle || []).push({});\n",
        "</script>"
      ]
    }
  ],
  "metadata": {},
  "nbformat": 4,
  "nbformat_minor": 2
}
