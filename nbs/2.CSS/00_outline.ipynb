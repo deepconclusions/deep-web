{
 "cells": [
  {
   "cell_type": "markdown",
   "metadata": {},
   "source": []
  },
  {
   "cell_type": "markdown",
   "metadata": {},
   "source": [
    "## CSS Course Outline"
   ]
  },
  {
   "cell_type": "markdown",
   "metadata": {},
   "source": [
    "### Basics\n",
    "\n",
    "- Introduction\n",
    "- Syntax and Selectors\n",
    "- Inserting\n",
    "- Colors\n",
    "- Backgrounds\n",
    "- Borders\n",
    "- Margins\n",
    "- Padding\n",
    "- Width and Height\n",
    "- Box Models\n",
    "- Text\n",
    "- Fonts\n",
    "- Icons\n",
    "- Links\n",
    "- Tables\n",
    "- Outlines\n",
    "- Buttons\n",
    "- Buttons\n",
    "- Images\n",
    "- Opacity"
   ]
  },
  {
   "cell_type": "markdown",
   "metadata": {},
   "source": [
    "### CSS Layout\n",
    "\n",
    "- The `display` Property\n",
    "- The `width` and `max-width` Properties\n",
    "- Positioning\n",
    "- Overflow\n",
    "- `float` and `clear` Properties\n",
    "- `inline-block`\n",
    "- Horizontal and Vertical Align"
   ]
  },
  {
   "cell_type": "markdown",
   "metadata": {},
   "source": [
    "### Selectors\n",
    "\n",
    "- Combinators\n",
    "- Pseudoclasses\n",
    "- Pseudoelements\n",
    "- Attribute Selectors"
   ]
  },
  {
   "cell_type": "markdown",
   "metadata": {},
   "source": [
    "### Data Types\n",
    "\n",
    "- Integer\n",
    "- Number\n",
    "- Length\n",
    "- Percentage\n",
    "- String\n",
    "- Color\n",
    "- Url\n",
    "- Angle"
   ]
  },
  {
   "cell_type": "markdown",
   "metadata": {},
   "source": [
    "<div class=\"p-3\">\n",
    "<p class=pb-1>\n",
    "Don't miss out on any updates and developments! Subscribe to the deepconclusions Newsletter it's easy and safe.\n",
    "</p>\n",
    "<iframe src=\"https://embeds.beehiiv.com/5fc7c425-9c7e-4e08-a514-ad6c22beee74?slim=true\" data-test-id=\"beehiiv-embed\" height=\"52\" frameborder=\"0\" scrolling=\"no\" style=\"margin: 0; border-radius: 0px !important; background-color: transparent; width: 100%;\" ></iframe>\n",
    "</div>"
   ]
  }
 ],
 "metadata": {},
 "nbformat": 4,
 "nbformat_minor": 2
}
