{
 "cells": [
  {
   "cell_type": "markdown",
   "metadata": {},
   "source": [
    "## JavaScript Data Types\n",
    "\n",
    "In JavaScript or in any programming language, the concept of data types is important\n",
    "\n",
    "## What are Data Types?\n",
    "\n",
    "Data types are the different kinds of data that can be stored or used in a JavaScript program\n",
    "\n",
    "## String Data Type\n",
    "\n",
    "The `string` data type is a sequence of characters used to represent text. \n",
    "\n",
    "String can be written with either single or double quotes\n",
    "\n",
    "```js\n",
    "// single quote\n",
    "const name = 'Juma Shafara';\n",
    "\n",
    "// double quote\n",
    "const name2 = \"Akullu Viola\";\n",
    "\n",
    "document.getElementById('demo').innerHTML = name + \"<br />\" + name2;\n",
    "```\n",
    "\n",
    "**Should you use single or double quotes?**\n",
    "\n",
    "You can use which one you like\n",
    "\n",
    "But if the string contains single quotes, use double quotes\n",
    "\n",
    "Or if the string contains double quotes, use single quotes\n",
    "\n",
    "```js\n",
    "const sentence = \"Her name is 'Maria'\";\n",
    "const sentence2 = 'Her name is \"Maria\"';document.getElementById('demo').innerHTML = sentence + \"<br />\" + sentence2\n",
    "```"
   ]
  }
 ],
 "metadata": {},
 "nbformat": 4,
 "nbformat_minor": 2
}
