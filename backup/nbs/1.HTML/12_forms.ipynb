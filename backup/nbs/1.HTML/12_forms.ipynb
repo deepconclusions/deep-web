{
  "cells": [
    {
      "cell_type": "markdown",
      "metadata": {},
      "source": [
        "---\n",
        "title: HTML Forms\n",
        "keywords: [html,forms, html forms, deepconclusions, data science, web development, website]\n",
        "---\n",
        "<style>\n",
        "     .keywords {\n",
        "          display: none\n",
        "     }\n",
        "</style>"
      ]
    },
    {
      "cell_type": "markdown",
      "metadata": {},
      "source": [
        ""
      ]
    },
    {
      "cell_type": "markdown",
      "metadata": {},
      "source": [
        "## Introduction to HTML Forms\n",
        "\n",
        "HTML forms are used to collect user input. A form is an area that can contain form elements such as input boxes, checkboxes, radio buttons, submit buttons, etc. Forms are essential in web development for collecting user data and sending it to a server for processing."
      ]
    },
    {
      "cell_type": "markdown",
      "metadata": {},
      "source": [
        "### Basic Structure of an HTML Form\n",
        "\n",
        "An HTML form is defined using the `<form>` element. Here's a basic example:\n",
        "\n",
        "```html\n",
        "<!DOCTYPE html>\n",
        "<html lang=\"en\">\n",
        "<head>\n",
        "    <meta charset=\"UTF-8\">\n",
        "    <meta name=\"viewport\" content=\"width=device-width, initial-scale=1.0\">\n",
        "    <title>Basic Form</title>\n",
        "</head>\n",
        "<body>\n",
        "    <form action=\"/submit\" method=\"post\">\n",
        "        <!-- Form elements go here -->\n",
        "    </form>\n",
        "</body>\n",
        "</html>\n",
        "```"
      ]
    },
    {
      "cell_type": "markdown",
      "metadata": {},
      "source": [
        "### Form Attributes\n",
        "\n",
        "1. **action**: Specifies the URL where the form data should be sent.\n",
        "2. **method**: Specifies the HTTP method to be used when sending the form data. Common values are `GET` and `POST`.\n",
        "    - `GET`: Appends form data to the URL. Suitable for non-sensitive data.\n",
        "    - `POST`: Sends form data in the body of the HTTP request. Suitable for sensitive data."
      ]
    },
    {
      "cell_type": "markdown",
      "metadata": {},
      "source": [
        "### Form Elements\n",
        "\n",
        "**Input Elements**\n",
        "\n",
        "   The `<input>` element is used to create various types of inputs. Key attributes include `type`, `name`, `value`, `placeholder`, and `required`.\n",
        "\n",
        "   - **Text Input**\n",
        "\n",
        "     ```html\n",
        "     <label for=\"name\">Name:</label>\n",
        "     <input type=\"text\" id=\"name\" name=\"name\" placeholder=\"Enter your name\" required>\n",
        "     ```\n",
        "\n",
        "   - **Password Input**\n",
        "\n",
        "     ```html\n",
        "     <label for=\"password\">Password:</label>\n",
        "     <input type=\"password\" id=\"password\" name=\"password\" placeholder=\"Enter your password\" required>\n",
        "     ```"
      ]
    },
    {
      "cell_type": "markdown",
      "metadata": {},
      "source": [
        "   - **Email Input**\n",
        "\n",
        "     ```html\n",
        "     <label for=\"email\">Email:</label>\n",
        "     <input type=\"email\" id=\"email\" name=\"email\" placeholder=\"Enter your email\" required>\n",
        "     ```"
      ]
    },
    {
      "cell_type": "markdown",
      "metadata": {},
      "source": [
        "   - **Number Input**\n",
        "\n",
        "     ```html\n",
        "     <label for=\"age\">Age:</label>\n",
        "     <input type=\"number\" id=\"age\" name=\"age\" min=\"1\" max=\"100\">\n",
        "     ```"
      ]
    },
    {
      "cell_type": "markdown",
      "metadata": {},
      "source": [
        "   - **Radio Buttons**\n",
        "\n",
        "     ```html\n",
        "     <p>Gender:</p>\n",
        "     <input type=\"radio\" id=\"male\" name=\"gender\" value=\"male\">\n",
        "     <label for=\"male\">Male</label>\n",
        "     <input type=\"radio\" id=\"female\" name=\"gender\" value=\"female\">\n",
        "     <label for=\"female\">Female</label>\n",
        "     ```"
      ]
    },
    {
      "cell_type": "markdown",
      "metadata": {},
      "source": [
        "   - **Checkboxes**\n",
        "\n",
        "     ```html\n",
        "     <p>Skills:</p>\n",
        "     <input type=\"checkbox\" id=\"html\" name=\"skills\" value=\"HTML\">\n",
        "     <label for=\"html\">HTML</label>\n",
        "     <input type=\"checkbox\" id=\"css\" name=\"skills\" value=\"CSS\">\n",
        "     <label for=\"css\">CSS</label>\n",
        "     <input type=\"checkbox\" id=\"js\" name=\"skills\" value=\"JavaScript\">\n",
        "     <label for=\"js\">JavaScript</label>\n",
        "     ```"
      ]
    },
    {
      "cell_type": "markdown",
      "metadata": {},
      "source": [
        "   - **Submit Button**\n",
        "\n",
        "     ```html\n",
        "     <input type=\"submit\" value=\"Submit\">\n",
        "     ```"
      ]
    },
    {
      "cell_type": "markdown",
      "metadata": {},
      "source": [
        "**Textarea**\n",
        "\n",
        "   The `<textarea>` element is used for multi-line text input.\n",
        "\n",
        "   ```html\n",
        "   <label for=\"message\">Message:</label>\n",
        "   <textarea id=\"message\" name=\"message\" rows=\"4\" cols=\"50\" placeholder=\"Enter your message here\"></textarea>\n",
        "   ```"
      ]
    },
    {
      "cell_type": "markdown",
      "metadata": {},
      "source": [
        "**Select Box**\n",
        "\n",
        "   The `<select>` element is used to create a drop-down list.\n",
        "\n",
        "   ```html\n",
        "   <label for=\"country\">Country:</label>\n",
        "   <select id=\"country\" name=\"country\">\n",
        "       <option value=\"usa\">USA</option>\n",
        "       <option value=\"canada\">Canada</option>\n",
        "       <option value=\"uk\">UK</option>\n",
        "   </select>\n",
        "   ```"
      ]
    },
    {
      "cell_type": "markdown",
      "metadata": {},
      "source": [
        "**File Input**\n",
        "\n",
        "   The `<input type=\"file\">` element allows users to upload files.\n",
        "\n",
        "   ```html\n",
        "   <label for=\"file\">Upload a file:</label>\n",
        "   <input type=\"file\" id=\"file\" name=\"file\">\n",
        "   ```"
      ]
    },
    {
      "cell_type": "markdown",
      "metadata": {},
      "source": [
        "**Button**\n",
        "\n",
        "   The `<button>` element can be used to create various types of buttons.\n",
        "\n",
        "   ```html\n",
        "   <button type=\"submit\">Submit</button>\n",
        "   ```"
      ]
    },
    {
      "cell_type": "markdown",
      "metadata": {},
      "source": [
        "### Grouping Form Elements\n",
        "\n",
        "**Fieldset and Legend**\n",
        "\n",
        "   The `<fieldset>` element is used to group related elements in a form, and the `<legend>` element provides a caption for the `<fieldset>`.\n",
        "\n",
        "   ```html\n",
        "   <fieldset>\n",
        "       <legend>Personal Information</legend>\n",
        "       <label for=\"fname\">First Name:</label>\n",
        "       <input type=\"text\" id=\"fname\" name=\"fname\">\n",
        "       <label for=\"lname\">Last Name:</label>\n",
        "       <input type=\"text\" id=\"lname\" name=\"lname\">\n",
        "   </fieldset>\n",
        "   ```"
      ]
    },
    {
      "cell_type": "markdown",
      "metadata": {},
      "source": [
        "### Form Validation\n",
        "\n",
        "HTML5 provides built-in form validation. Here are some common validation attributes:\n",
        "\n",
        "- **required**: Ensures the field is not empty.\n",
        "- **minlength** and **maxlength**: Set minimum and maximum lengths for text inputs.\n",
        "- **pattern**: Defines a regex pattern the input must match.\n",
        "- **min** and **max**: Set minimum and maximum values for number inputs.\n",
        "\n",
        "```html\n",
        "<label for=\"username\">Username:</label>\n",
        "<input type=\"text\" id=\"username\" name=\"username\" minlength=\"5\" maxlength=\"15\" required>\n",
        "\n",
        "<label for=\"userage\">Age:</label>\n",
        "<input type=\"number\" id=\"userage\" name=\"userage\" min=\"18\" max=\"100\" required>\n",
        "```"
      ]
    },
    {
      "cell_type": "markdown",
      "metadata": {},
      "source": [
        "### Example Form\n",
        "\n",
        "Here's a complete example that includes various form elements:\n",
        "\n",
        "```html\n",
        "<!DOCTYPE html>\n",
        "<html lang=\"en\">\n",
        "<head>\n",
        "    <meta charset=\"UTF-8\">\n",
        "    <meta name=\"viewport\" content=\"width=device-width, initial-scale=1.0\">\n",
        "    <title>Example Form</title>\n",
        "</head>\n",
        "<body>\n",
        "    <form action=\"/submit\" method=\"post\">\n",
        "        <fieldset>\n",
        "            <legend>Personal Information</legend>\n",
        "            <label for=\"name\">Name:</label>\n",
        "            <input type=\"text\" id=\"name\" name=\"name\" required>\n",
        "            <label for=\"email\">Email:</label>\n",
        "            <input type=\"email\" id=\"email\" name=\"email\" required>\n",
        "        </fieldset>\n",
        "\n",
        "        <fieldset>\n",
        "            <legend>Account Details</legend>\n",
        "            <label for=\"username\">Username:</label>\n",
        "            <input type=\"text\" id=\"username\" name=\"username\" minlength=\"5\" maxlength=\"15\" required>\n",
        "            <label for=\"password\">Password:</label>\n",
        "            <input type=\"password\" id=\"password\" name=\"password\" required>\n",
        "        </fieldset>\n",
        "\n",
        "        <fieldset>\n",
        "            <legend>Preferences</legend>\n",
        "            <p>Gender:</p>\n",
        "            <input type=\"radio\" id=\"male\" name=\"gender\" value=\"male\">\n",
        "            <label for=\"male\">Male</label>\n",
        "            <input type=\"radio\" id=\"female\" name=\"gender\" value=\"female\">\n",
        "            <label for=\"female\">Female</label>\n",
        "\n",
        "            <p>Skills:</p>\n",
        "            <input type=\"checkbox\" id=\"html\" name=\"skills\" value=\"HTML\">\n",
        "            <label for=\"html\">HTML</label>\n",
        "            <input type=\"checkbox\" id=\"css\" name=\"skills\" value=\"CSS\">\n",
        "            <label for=\"css\">CSS</label>\n",
        "            <input type=\"checkbox\" id=\"js\" name=\"skills\" value=\"JavaScript\">\n",
        "            <label for=\"js\">JavaScript</label>\n",
        "        </fieldset>\n",
        "\n",
        "        <label for=\"message\">Message:</label>\n",
        "        <textarea id=\"message\" name=\"message\" rows=\"4\" cols=\"50\"></textarea>\n",
        "\n",
        "        <label for=\"file\">Upload a file:</label>\n",
        "        <input type=\"file\" id=\"file\" name=\"file\">\n",
        "\n",
        "        <button type=\"submit\">Submit</button>\n",
        "    </form>\n",
        "</body>\n",
        "</html>\n",
        "```\n",
        "\n",
        "**Ouput:**\n",
        "<form action=\"/submit\" method=\"post\">\n",
        "    <fieldset>\n",
        "        <legend>Personal Information</legend>\n",
        "        <label for=\"name\">Name:</label>\n",
        "        <input type=\"text\" id=\"name\" name=\"name\" required>\n",
        "        <label for=\"email\">Email:</label>\n",
        "        <input type=\"email\" id=\"email\" name=\"email\" required>\n",
        "    </fieldset>\n",
        "    <fieldset>\n",
        "        <legend>Account Details</legend>\n",
        "        <label for=\"username\">Username:</label>\n",
        "        <input type=\"text\" id=\"username\" name=\"username\" minlength=\"5\" maxlength=\"15\" required>\n",
        "        <label for=\"password\">Password:</label>\n",
        "        <input type=\"password\" id=\"password\" name=\"password\" required>\n",
        "    </fieldset>\n",
        "    <fieldset>\n",
        "        <legend>Preferences</legend>\n",
        "        <p>Gender:</p>\n",
        "        <input type=\"radio\" id=\"male\" name=\"gender\" value=\"male\">\n",
        "        <label for=\"male\">Male</label>\n",
        "        <input type=\"radio\" id=\"female\" name=\"gender\" value=\"female\">\n",
        "        <label for=\"female\">Female</label>\n",
        "        <p>Skills:</p>\n",
        "        <input type=\"checkbox\" id=\"html\" name=\"skills\" value=\"HTML\">\n",
        "        <label for=\"html\">HTML</label>\n",
        "        <input type=\"checkbox\" id=\"css\" name=\"skills\" value=\"CSS\">\n",
        "        <label for=\"css\">CSS</label>\n",
        "        <input type=\"checkbox\" id=\"js\" name=\"skills\" value=\"JavaScript\">\n",
        "        <label for=\"js\">JavaScript</label>\n",
        "    </fieldset>\n",
        "    <label for=\"message\">Message:</label>\n",
        "    <textarea id=\"message\" name=\"message\" rows=\"4\" cols=\"50\"></textarea>\n",
        "    <label for=\"file\">Upload a file:</label>\n",
        "    <input type=\"file\" id=\"file\" name=\"file\">\n",
        "    <button type=\"submit\">Submit</button>\n",
        "</form>\n"
      ]
    },
    {
      "cell_type": "markdown",
      "metadata": {},
      "source": [
        "### Conclusion\n",
        "\n",
        "This tutorial covers the basics of HTML forms, including the essential attributes and elements. By understanding these concepts, you can create forms that effectively collect and validate user input. For more advanced functionality, you might integrate JavaScript for dynamic form handling and additional validation."
      ]
    },
    {
      "cell_type": "markdown",
      "metadata": {},
      "source": [
        "<p class=pb-1>\n",
        "To be among the first to hear about future updates of the course materials, simply enter your email below, follow us on <a href=\"https://x.com/deepconclusions\"><i class=\"bi bi-twitter-x\"></i>\n",
        " (formally Twitter)</a>, or subscribe to our <a href=\"https://www.youtube.com/@deepconclusions\"><i class=\"bi bi-youtube\"></i> YouTube channel</a>.\n",
        "</p>\n",
        "<iframe src=\"https://embeds.beehiiv.com/5fc7c425-9c7e-4e08-a514-ad6c22beee74?slim=true\" data-test-id=\"beehiiv-embed\" height=\"52\" frameborder=\"0\" scrolling=\"no\" style=\"margin: 0; border-radius: 0px !important; background-color: transparent; width: 100%;\" ></iframe>\n",
        "\n",
        "\n",
        "<script async src=\"https://pagead2.googlesyndication.com/pagead/js/adsbygoogle.js?client=ca-pub-8076040302380238\"\n",
        "     crossorigin=\"anonymous\"></script>\n",
        "<!-- inline_horizontal -->\n",
        "<ins class=\"adsbygoogle\"\n",
        "     style=\"display:block\"\n",
        "     data-ad-client=\"ca-pub-8076040302380238\"\n",
        "     data-ad-slot=\"9021194372\"\n",
        "     data-ad-format=\"auto\"\n",
        "     data-full-width-responsive=\"true\"></ins>\n",
        "<script>\n",
        "     (adsbygoogle = window.adsbygoogle || []).push({});\n",
        "</script>\n"
      ]
    }
  ],
  "metadata": {},
  "nbformat": 4,
  "nbformat_minor": 2
}
