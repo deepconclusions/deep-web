{
  "cells": [
    {
      "cell_type": "markdown",
      "metadata": {},
      "source": [
        "---\n",
        "title: CSS Inserting\n",
        "keywords: [html,css, css inserting, internal style sheet, html css, deepconclusions, data science, web development, website, css tutorial, \"external style sheet\", \"inline styling\"]\n",
        "---\n",
        "<style>\n",
        "     .keywords {\n",
        "          display: none\n",
        "     }\n",
        "</style>"
      ]
    },
    {
      "cell_type": "markdown",
      "metadata": {},
      "source": [
        ""
      ]
    },
    {
      "cell_type": "markdown",
      "metadata": {},
      "source": [
        "## CSS Inserting\n",
        "\n",
        "Inserting CSS into an HTML document can be done in several ways:\n",
        "\n",
        "## External CSS\n",
        "\n",
        "This method involves linking an external CSS file to your HTML document using the `<link>` element within the `<head>` section of your HTML file. This is the recommended method for larger projects as it keeps your HTML and CSS separate, making your code more maintainable and easier to manage.\n",
        "\n",
        "**Example:**\n",
        "\n",
        "  ```html\n",
        "  <!DOCTYPE html>\n",
        "  <html>\n",
        "  <head>\n",
        "    <link rel=\"stylesheet\" type=\"text/css\" href=\"styles.css\">\n",
        "  </head>\n",
        "  <body>\n",
        "    <!-- Your HTML content here -->\n",
        "  </body>\n",
        "  </html>\n",
        "  ```\n",
        "\n",
        "In this example, the CSS file `styles.css` and the HTML file are saved in the same directory/folder\n",
        "\n",
        "You can try it as well, just follow these steps.\n",
        "\n",
        "1. Create a folder in root directory.\n",
        "2. Save the HTML file in that folder.\n",
        "3. Save the `style.css` file in that folder.\n",
        "4. Run/Open the HTML file using any browser"
      ]
    },
    {
      "cell_type": "markdown",
      "metadata": {},
      "source": [
        "## Internal CSS\n",
        "\n",
        "With this method, CSS rules are written directly within the `<style>` element in the `<head>` section of your HTML document. This is useful for small-scale projects or when you need to apply specific styles to a single page.\n",
        "\n",
        "**Example:**\n",
        "\n",
        "  ```html\n",
        "  <!DOCTYPE html>\n",
        "  <html>\n",
        "  <head>\n",
        "    <style>\n",
        "      /* CSS rules here */\n",
        "      body {\n",
        "        background-color: #f0f0f0;\n",
        "      }\n",
        "      h1 {\n",
        "        color: blue;\n",
        "      }\n",
        "    </style>\n",
        "  </head>\n",
        "  <body>\n",
        "    <!-- Your HTML content here -->\n",
        "  </body>\n",
        "  </html>\n",
        "  ```\n",
        "\n",
        "In this example, CSS rules are defined within the `<style>` element."
      ]
    },
    {
      "cell_type": "markdown",
      "metadata": {},
      "source": [
        "## Inline CSS\n",
        "\n",
        "This method involves applying CSS styles directly to individual HTML elements using the `style` attribute. While this approach provides the most immediate control over styling, it's generally considered less maintainable and should be used sparingly.\n",
        "\n",
        "**Example:**\n",
        "\n",
        "```html\n",
        "<!DOCTYPE html>\n",
        "<html>\n",
        "<body>\n",
        "\n",
        "<h1 style=\"color: blue;\">This is a heading</h1>\n",
        "<p style=\"font-size: 16px;\">This is a paragraph.</p>\n",
        "\n",
        "</body>\n",
        "</html>\n",
        "```\n",
        "\n",
        "In this example, inline styles are applied directly to the `<h1>` and `<p>` elements using the `style` attribute."
      ]
    },
    {
      "cell_type": "markdown",
      "metadata": {},
      "source": [
        "<div class=\"alert text-white rounded\" style=\"background: #3a6e68;\"><h4>Note!</h4><p>Choose the method that best fits your project's requirements and development workflow. For larger projects, external CSS files linked via `link` elements are generally preferred, while smaller projects or quick prototyping may benefit from internal or inline CSS.</p></div>\n"
      ]
    },
    {
      "cell_type": "markdown",
      "metadata": {},
      "source": [
        "<p class=pb-1>\n",
        "To be among the first to hear about future updates of the course materials, simply enter your email below, follow us on <a href=\"https://x.com/deepconclusions\"><i class=\"bi bi-twitter-x\"></i>\n",
        " (formally Twitter)</a>, or subscribe to our <a href=\"https://www.youtube.com/@deepconclusions\"><i class=\"bi bi-youtube\"></i> YouTube channel</a>.\n",
        "</p>\n",
        "<iframe src=\"https://embeds.beehiiv.com/5fc7c425-9c7e-4e08-a514-ad6c22beee74?slim=true\" data-test-id=\"beehiiv-embed\" height=\"52\" frameborder=\"0\" scrolling=\"no\" style=\"margin: 0; border-radius: 0px !important; background-color: transparent; width: 100%;\" ></iframe>\n",
        "\n",
        "<script async src=\"https://pagead2.googlesyndication.com/pagead/js/adsbygoogle.js?client=ca-pub-8076040302380238\"\n",
        "     crossorigin=\"anonymous\"></script>\n",
        "<!-- inline_horizontal -->\n",
        "<ins class=\"adsbygoogle\"\n",
        "     style=\"display:block\"\n",
        "     data-ad-client=\"ca-pub-8076040302380238\"\n",
        "     data-ad-slot=\"9021194372\"\n",
        "     data-ad-format=\"auto\"\n",
        "     data-full-width-responsive=\"true\"></ins>\n",
        "<script>\n",
        "     (adsbygoogle = window.adsbygoogle || []).push({});\n",
        "</script>"
      ]
    }
  ],
  "metadata": {},
  "nbformat": 4,
  "nbformat_minor": 2
}
