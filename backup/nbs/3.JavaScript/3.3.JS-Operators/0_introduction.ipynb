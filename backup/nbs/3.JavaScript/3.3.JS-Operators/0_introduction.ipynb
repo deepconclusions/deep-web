{
 "cells": [
  {
   "cell_type": "markdown",
   "metadata": {},
   "source": [
    "---\n",
    "title: JavaScript Operators\n",
    "keywords: [javascript, operators]\n",
    "---"
   ]
  },
  {
   "cell_type": "markdown",
   "metadata": {},
   "source": [
    "JavaScript operators are used to perform particular actions\n",
    "\n",
    "They can be used to assign values, compare values, combine values, perform arithmentic operations and more\n",
    "\n",
    "JavaScript operators are symbols (or set of symbols) or keywords\n",
    "\n",
    "There are different types of operators.\n",
    "\n",
    "<div class=\"alert text-white rounded\" style=\"background: #3a6e68;\"><h4>Note!</h4><p>The lesson's objective is to familiarize you with operators, there is a designated lesson for each type.</p></div>"
   ]
  },
  {
   "cell_type": "markdown",
   "metadata": {},
   "source": [
    "## Assignment Operators\n",
    "\n",
    "The **assignment operator** is used to assign a value to a variable. It uses the equal `=` symbol.\n",
    "\n",
    "```js\n",
    "const x = 3;\n",
    "const y = 5;\n",
    "const sum = x + y;\n",
    "\n",
    "console.log(sum);\n",
    "```"
   ]
  },
  {
   "cell_type": "markdown",
   "metadata": {},
   "source": [
    "The **addition assignment** operator adds the value of the right operand to the value of the variable. Use the `let` keyword so we can reassign its value.\n",
    "\n",
    "- Operator: `x += y`\n",
    "- Equivalent: `x = x + y`\n",
    "\n",
    "Here's an example:\n",
    "\n",
    "```js\n",
    "let x = 3;\n",
    "let y = 2;\n",
    "\n",
    "x += y;\n",
    "\n",
    "console.log(x);\n",
    "```\n",
    "\n",
    "## Arithmetic Operators\n",
    "\n",
    "The **arithmetic operators** are used to perform arithmetic operations (like addition, subtraction, multiplication, and division) between values.\n",
    "\n",
    "Here are the symbols used for the arithmetic operators:\n",
    "\n",
    "- Addition: `+`\n",
    "- Subtraction: `-`\n",
    "- Multiplication: `*`\n",
    "- Division: `/`\n",
    "\n",
    "**Addition example:**\n",
    "\n",
    "```js\n",
    "const num1 = 8;\n",
    "const num2 = 2;\n",
    "const sum = num1 + num2;\n",
    "\n",
    "console.log(sum);\n",
    "```"
   ]
  },
  {
   "cell_type": "markdown",
   "metadata": {},
   "source": [
    "**Subtraction example:**\n",
    "\n",
    "```js\n",
    "const num1 = 8;\n",
    "const num2 = 2;\n",
    "const difference = num1 - num2;\n",
    "\n",
    "console.log(difference);\n",
    "```"
   ]
  },
  {
   "cell_type": "markdown",
   "metadata": {},
   "source": [
    "**Multiplication example:**\n",
    "\n",
    "```js\n",
    "const num1 = 8;\n",
    "const num2 = 2;\n",
    "const product = num1 * num2;\n",
    "\n",
    "console.log(product);\n",
    "```"
   ]
  },
  {
   "cell_type": "markdown",
   "metadata": {},
   "source": [
    "**Division example:**\n",
    "\n",
    "```js\n",
    "const num1 = 8;\n",
    "const num2 = 2;\n",
    "const quotient = num1 / num2;\n",
    "\n",
    "console.log(quotient);\n",
    "```"
   ]
  },
  {
   "cell_type": "markdown",
   "metadata": {},
   "source": [
    "## String Operators\n",
    "\n",
    "String operators are used to concatenate or add strings\n",
    "\n",
    "The **addition** operator `+` and the **addition assignment** operator `+=` are the string operators\n",
    "\n",
    "Example of using the **addition** oeprator.\n",
    "\n",
    "```js\n",
    "const firstName = \"John \";\n",
    "const lastName = \"Doe\";\n",
    "\n",
    "const fullName = firstName + lastName\n",
    "\n",
    "console.log(fullName)\n",
    "```"
   ]
  },
  {
   "cell_type": "markdown",
   "metadata": {},
   "source": [
    "Example of using the **addition assignment** oeprator.\n",
    "\n",
    "```js\n",
    "let firstName = \"John \";\n",
    "let lastName = \"Doe\";\n",
    "\n",
    "firstName += lastName;\n",
    "\n",
    "console.log(firstName);\n",
    "```"
   ]
  },
  {
   "cell_type": "markdown",
   "metadata": {},
   "source": [
    "## Comparison Operators\n",
    "\n",
    "Comparison operators compare its operands and return a **Boolean** based on whether the comparison is `true` or `false`.\n",
    "\n",
    "In the example below, the `equality` comparison operator is used to compare two numbers.\n",
    "\n",
    "```js\n",
    "const x = 5;\n",
    "const y = 5;\n",
    "\n",
    "console.log(x == y);\n",
    "```"
   ]
  },
  {
   "cell_type": "markdown",
   "metadata": {},
   "source": [
    "## Logical Operators \n",
    "\n",
    "**Logical operators** are typically used with Boolean values.\n",
    "\n",
    "They are used to determine the logic between its operands.\n",
    "\n",
    "You will learn about logical operators later in the course.\n",
    "\n",
    "## Bitwise Operators\n",
    "\n",
    "A **A bitwise operator** treats its operands as a set of **32 bits** or zeros and ones.\n",
    "\n",
    "It performs its operands on binary representations.\n",
    "\n",
    "It returns numberic values\n",
    "\n",
    "You will learn about bitwise operators later in the course\n"
   ]
  }
 ],
 "metadata": {},
 "nbformat": 4,
 "nbformat_minor": 2
}
