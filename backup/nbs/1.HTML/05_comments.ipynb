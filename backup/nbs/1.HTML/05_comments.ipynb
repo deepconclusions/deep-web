{
  "cells": [
    {
      "cell_type": "markdown",
      "metadata": {},
      "source": [
        "# HTML Comments"
      ]
    },
    {
      "cell_type": "markdown",
      "metadata": {},
      "source": [
        ""
      ]
    },
    {
      "cell_type": "markdown",
      "metadata": {},
      "source": [
        "## Comments\n",
        "HTML comments are text, phrases or sentences inside an HTML file.\n",
        "\n",
        "They are only shown in codes and not rendered by a browser.\n",
        "\n",
        "### Why use HTML comments?\n",
        "HTML comments help both beginners and experienced web developers to easily organize their codes.\n",
        "\n",
        "They act like sticky notes in HTML files\n",
        "\n",
        "### How to write HTML comments\n",
        "An HTML comment starts with `<!--` and ends with `-->`. It looks like this:\n",
        "\n",
        "```html\n",
        "<!-- comments go here -->\n",
        "```\n",
        "\n",
        "### Example\n",
        "<p class=\"codepen\" data-height=\"300\" data-default-tab=\"html,result\" data-slug-hash=\"vYwePRR\" data-pen-title=\"HTML_comments\" data-user=\"deepconclusions\" style=\"height: 300px; box-sizing: border-box; display: flex; align-items: center; justify-content: center; border: 2px solid; margin: 1em 0; padding: 1em;\">\n",
        "  <span>See the Pen <a href=\"https://codepen.io/deepconclusions/pen/vYwePRR\">\n",
        "  HTML_comments</a> by deepconclusions (<a href=\"https://codepen.io/deepconclusions\">@deepconclusions</a>)\n",
        "  on <a href=\"https://codepen.io\">CodePen</a>.</span>\n",
        "</p>\n",
        "<script async src=\"https://cpwebassets.codepen.io/assets/embed/ei.js\"></script>\n",
        "\n",
        "On the example given above, you have learned that you make a single-line and multi-line of HTML comments.\n",
        "\n",
        "And if you have noticed we have also put comments beside a start tag and end tag.\n",
        "\n",
        "That is for us to easily recognize where a specific element starts and ends."
      ]
    },
    {
      "cell_type": "markdown",
      "metadata": {},
      "source": [
        "<p class=pb-1>\n",
        "To be among the first to hear about future updates of the course materials, simply enter your email below, follow us on <a href=\"https://x.com/deepconclusions\"><i class=\"bi bi-twitter-x\"></i>\n",
        " (formally Twitter)</a>, or subscribe to our <a href=\"https://www.youtube.com/@deepconclusions\"><i class=\"bi bi-youtube\"></i> YouTube channel</a>.\n",
        "</p>\n",
        "<iframe src=\"https://embeds.beehiiv.com/5fc7c425-9c7e-4e08-a514-ad6c22beee74?slim=true\" data-test-id=\"beehiiv-embed\" height=\"52\" frameborder=\"0\" scrolling=\"no\" style=\"margin: 0; border-radius: 0px !important; background-color: transparent; width: 100%;\" ></iframe>\n",
        "\n",
        "<script async src=\"https://pagead2.googlesyndication.com/pagead/js/adsbygoogle.js?client=ca-pub-8076040302380238\"\n",
        "     crossorigin=\"anonymous\"></script>\n",
        "<!-- inline_horizontal -->\n",
        "<ins class=\"adsbygoogle\"\n",
        "     style=\"display:block\"\n",
        "     data-ad-client=\"ca-pub-8076040302380238\"\n",
        "     data-ad-slot=\"9021194372\"\n",
        "     data-ad-format=\"auto\"\n",
        "     data-full-width-responsive=\"true\"></ins>\n",
        "<script>\n",
        "     (adsbygoogle = window.adsbygoogle || []).push({});\n",
        "</script>"
      ]
    }
  ],
  "metadata": {},
  "nbformat": 4,
  "nbformat_minor": 2
}
