{
 "cells": [
  {
   "cell_type": "markdown",
   "metadata": {},
   "source": []
  },
  {
   "cell_type": "markdown",
   "metadata": {},
   "source": [
    "## What is JavaScript?\n",
    "\n",
    "JavaScript is a programming or scripting language that allows the implementation of features on the web pages\n",
    "\n",
    "### Looking Back\n",
    "To better understand JavaScript, we can look back at what we already know.\n",
    "\n",
    "We know that HTML elements are the building blocks of web pages\n",
    "\n",
    "And CSS is used for designing HTML elements.\n",
    "\n",
    "JavaScript on the other hand, is what implements the features of web pages.\n",
    "\n",
    "We can simplify this explanation by taking a look at this example:"
   ]
  },
  {
   "cell_type": "markdown",
   "metadata": {},
   "source": [
    "```html\n",
    "<!DOCTYPE html>\n",
    "<html lang=\"en\">\n",
    "<head>\n",
    "    <meta charset=\"UTF-8\">\n",
    "    <meta name=\"viewport\" content=\"width=device-width, initial-scale=1.0\">\n",
    "    <title>Document</title>\n",
    "    <style>\n",
    "        /* css */\n",
    "        button{\n",
    "            font-family: sans-serif;\n",
    "            border: none;\n",
    "        }\n",
    "        #btn {\n",
    "            background-color: darkred;\n",
    "            color: white;\n",
    "        }\n",
    "    </style>\n",
    "</head>\n",
    "<body>\n",
    "    <button id=\"btn\">Show a Dialog</button>\n",
    "\n",
    "    <!-- javascript -->\n",
    "    <script>\n",
    "        document.getElementById('btn').onclick = function() {\n",
    "            alert('I am a dialog box')\n",
    "        }\n",
    "    </script>\n",
    "</body>\n",
    "</html>\n",
    "```\n"
   ]
  },
  {
   "cell_type": "markdown",
   "metadata": {},
   "source": [
    "<div class=\"alert text-white rounded\" style=\"background: #3a6e68;\"><h4>Note!</h4><p>As you may notice, this web page contains HTML, CSS and JavaScript</p></div>"
   ]
  },
  {
   "cell_type": "markdown",
   "metadata": {},
   "source": [
    "In this example, HTML is used to create the button, then CSS is used to design it. Finally JavaScript is used to add a simple function that shows a dialog box when clicked.\n",
    "\n",
    "### What can JavaScript do?\n",
    "\n",
    "Well, alot! Here are some:\n",
    "\n",
    "JavaScript can change the content of HTML elements."
   ]
  },
  {
   "cell_type": "markdown",
   "metadata": {},
   "source": [
    "```html\n",
    "<!DOCTYPE html>\n",
    "<html lang=\"en\">\n",
    "<head>\n",
    "    <meta charset=\"UTF-8\">\n",
    "    <meta name=\"viewport\" content=\"width=device-width, initial-scale=1.0\">\n",
    "    <title>Document</title>\n",
    "</head>\n",
    "<body>\n",
    "    <p id=\"demo\">Hello World!</p>\n",
    "    <button type=\"button\" onclick=\"myFunc()\">Change Value</button>\n",
    "\n",
    "    <!-- javascipt code -->\n",
    "    <script>\n",
    "        function myFunc() {\n",
    "            document.getElementById(\"demo\").innerHTML = \"Hello Everyone!\";\n",
    "        }\n",
    "    </script>\n",
    "</body>\n",
    "</html>\n",
    "```"
   ]
  },
  {
   "cell_type": "markdown",
   "metadata": {},
   "source": [
    "JavaScript can change the value of attributes\n",
    "\n",
    "In this example, the value of the `src` attribute is changed."
   ]
  },
  {
   "cell_type": "markdown",
   "metadata": {},
   "source": [
    "```html\n",
    "<!DOCTYPE html>\n",
    "<html lang=\"en\">\n",
    "<head>\n",
    "    <meta charset=\"UTF-8\">\n",
    "    <meta name=\"viewport\" content=\"width=device-width, initial-scale=1.0\">\n",
    "    <title>Document</title>\n",
    "</head>\n",
    "<body>\n",
    "    <img src=\"../assets/404.png\" id='image'>\n",
    "    <button type=\"button\" onclick=\"muFunc()\">Change Image</button>\n",
    "\n",
    "    <!-- javascript -->\n",
    "    <script>\n",
    "        function muFunc() {\n",
    "            document.getElementById('image').src = \"../assets/banner.png\"\n",
    "        }\n",
    "    </script>\n",
    "</body>\n",
    "</html>\n",
    "```"
   ]
  }
 ],
 "metadata": {
  "kernelspec": {
   "display_name": "python3",
   "language": "python",
   "name": "python3"
  }
 },
 "nbformat": 4,
 "nbformat_minor": 2
}
