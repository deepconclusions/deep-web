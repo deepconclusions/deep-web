{
  "cells": [
    {
      "cell_type": "markdown",
      "metadata": {},
      "source": [
        "# HTML Links"
      ]
    },
    {
      "cell_type": "markdown",
      "metadata": {},
      "source": [
        ""
      ]
    },
    {
      "cell_type": "markdown",
      "metadata": {},
      "source": [
        "## Links\n",
        "\n",
        "HTML Links are very necessary for all web pages. All websites have links. HTML Links are hyperlinks.\n",
        "\n",
        "Links help users jump from their current web page location to another.\n",
        "\n",
        "To make HTML links we just need to use the `<a>` element with the href attribute that specifies a URL to a page."
      ]
    },
    {
      "cell_type": "markdown",
      "metadata": {},
      "source": [
        "### HTML Link Structure\n",
        "\n",
        "- start tag `<a>`\n",
        "- href attribute eg `href=\"index.html\"`\n",
        "- element content. A text eg Home Page. It can also be an image and other HTML elements\n",
        "- end tag `<a>`\n",
        "\n",
        "### Internal Linking\n",
        "#### Example:\n",
        "```html\n",
        "<a href=\"file-in-the-same-folder.html\">Example</a>\n",
        "```\n",
        "\n",
        "### External Linking\n",
        "#### Example:\n",
        "```html\n",
        "<a href=\"https://movies.deepconclusions.com/\">Movies</a>\n",
        "```\n",
        "\n",
        "### Opening Link in New Tab\n",
        "#### Example:\n",
        "We can easily open a link in a new tab.\n",
        "\n",
        "To do this, we need to use the `target` attribute with the value `_blank`.\n",
        "\n",
        "This would be helpful if you do not want to your visitors to leave your website.\n",
        "\n",
        "```html\n",
        "<a href=\"https://football.deepconclusions.com/\" target=\"_blank\">Movies</a>\n",
        "```"
      ]
    },
    {
      "cell_type": "markdown",
      "metadata": {},
      "source": [
        "<p class=pb-1>\n",
        "To be among the first to hear about future updates of the course materials, simply enter your email below, follow us on <a href=\"https://x.com/deepconclusions\"><i class=\"bi bi-twitter-x\"></i>\n",
        " (formally Twitter)</a>, or subscribe to our <a href=\"https://www.youtube.com/@deepconclusions\"><i class=\"bi bi-youtube\"></i> YouTube channel</a>.\n",
        "</p>\n",
        "<iframe src=\"https://embeds.beehiiv.com/5fc7c425-9c7e-4e08-a514-ad6c22beee74?slim=true\" data-test-id=\"beehiiv-embed\" height=\"52\" frameborder=\"0\" scrolling=\"no\" style=\"margin: 0; border-radius: 0px !important; background-color: transparent; width: 100%;\" ></iframe>\n",
        "\n",
        "<script async src=\"https://pagead2.googlesyndication.com/pagead/js/adsbygoogle.js?client=ca-pub-8076040302380238\"\n",
        "     crossorigin=\"anonymous\"></script>\n",
        "<!-- inline_horizontal -->\n",
        "<ins class=\"adsbygoogle\"\n",
        "     style=\"display:block\"\n",
        "     data-ad-client=\"ca-pub-8076040302380238\"\n",
        "     data-ad-slot=\"9021194372\"\n",
        "     data-ad-format=\"auto\"\n",
        "     data-full-width-responsive=\"true\"></ins>\n",
        "<script>\n",
        "     (adsbygoogle = window.adsbygoogle || []).push({});\n",
        "</script>"
      ]
    }
  ],
  "metadata": {},
  "nbformat": 4,
  "nbformat_minor": 2
}
