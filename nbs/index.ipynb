{
 "cells": [
  {
   "cell_type": "markdown",
   "metadata": {},
   "source": [
    "## Welcome to deepconclusions"
   ]
  },
  {
   "cell_type": "markdown",
   "metadata": {},
   "source": [
    "<div style=\"background-color: #3a6e68; border:1px solid #3a6e68; color: #fff; font-weight: 700; padding-left: 10px; padding-top: 5px; padding-bottom: 5px\"><strong>NOTE:</strong></div>\n",
    "<div style=\"background-color: #f3f4f7; padding-left: 10px; padding-top: 10px; padding-bottom: 10px; padding-right: 10px\">\n",
    "<p>We have re-develped our website to use jupyter notebooks, which is the tool we mostly use for teaching. This is so that you can access updated learning materials faster.</p>\n",
    "<p class=pb-1>\n",
    "To be among the first to hear about future updates of the course materials, simply enter your email below, follow us on <a href=\"https://x.com/deepconclusions\"><i class=\"bi bi-twitter-x\"></i>\n",
    " (formally Twitter)</a>, or subscribe to our <a href=\"https://www.youtube.com/@deepconclusions\"><i class=\"bi bi-youtube\"></i> YouTube channel</a>.\n",
    "</p>\n",
    "<iframe src=\"https://embeds.beehiiv.com/5fc7c425-9c7e-4e08-a514-ad6c22beee74?slim=true\" data-test-id=\"beehiiv-embed\" height=\"52\" frameborder=\"0\" scrolling=\"no\" style=\"margin: 0; border-radius: 0px !important; background-color: transparent; width: 100%;\" ></iframe>\n",
    "</div>\n"
   ]
  },
  {
   "cell_type": "markdown",
   "metadata": {},
   "source": [
    "### Programming for Web Development\n",
    "\n",
    "**Programming for Web Development** is a comprehensive subject designed to cover the various programming components essential for web development. By taking this course, you’ll learn programming techniques to build dynamic and responsive websites and applications using HTML, CSS, JavaScript, and Python with Django.\n",
    "\n",
    "This subject is divided into specific courses as outlined below. The duration mentioned is an average based on our previous students' experiences, but it can vary depending on individual learning pace:\n",
    "\n",
    "- [HTML (1-2 weeks)<i class=\"bi bi-arrow-right-circle\" title=\"Get Started\"></i>](./1.HTML/00_outline.ipynb)\n",
    "- [CSS (1-2 weeks)<i class=\"bi bi-arrow-right-circle\" title=\"Get Started\"></i>](./2.CSS/00_outline.ipynb)\n",
    "- [JavaScript (1 month)<i class=\"bi bi-arrow-right-circle\" title=\"Get Started\"></i>](./3.JavaScript/00_outline.ipynb)\n",
    "- [Python (1 month)<i class=\"bi bi-arrow-right-circle\" title=\"Get Started\"></i>](./4.Python/00_outline.ipynb)\n",
    "- [Django (1 month)<i class=\"bi bi-arrow-right-circle\" title=\"Get Started\"></i>](./5.Django/00_outline.ipynb)\n",
    "\n",
    "You can choose to take the entire subject or select specific courses that are of strong interest or most applicable to your field. However, if you’re a complete beginner, we recommend enrolling in the entire program for a comprehensive learning experience.\n",
    "\n",
    "### Course Details\n",
    "\n",
    "- **Duration:** Varies based on the course units chosen\n",
    "- **Sessions:** Four times a week (one-on-one)\n",
    "- **Timing:** Evenings and/or weekends\n",
    "- **Location:** Online or at UMF House, Sir Apollo Kagwa Road\n",
    "\n",
    "If you’re serious about learning programming and preparing for roles in Web Development and Data Science, we highly encourage you to enroll in our courses. Avoid wasting time on disconnected, outdated tutorials. We offer a structured and up-to-date curriculum to help you kickstart your career.\n",
    "\n",
    "### Contact Us\n",
    "\n",
    "Feel free to reach out to us for more information or to enroll:\n",
    "\n",
    "- **Email:** deepconclusionsorg@gmail.com\n",
    "- **Phone:** +256701520768 / +256771754118\n",
    "- **Website:** [www.deepconclusions.org](http://www.deepconclusions.org)\n",
    "\n",
    "We look forward to helping you achieve your learning goals!"
   ]
  }
 ],
 "metadata": {
  "kernelspec": {
   "display_name": "python3",
   "language": "python",
   "name": "python3"
  }
 },
 "nbformat": 4,
 "nbformat_minor": 4
}
