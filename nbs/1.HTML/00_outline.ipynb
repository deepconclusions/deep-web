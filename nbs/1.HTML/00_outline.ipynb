{
  "cells": [
    {
      "cell_type": "markdown",
      "metadata": {},
      "source": []
    },
    {
      "cell_type": "markdown",
      "metadata": {},
      "source": []
    },
    {
      "cell_type": "markdown",
      "metadata": {},
      "source": [
        "## HTML Course Outline"
      ]
    },
    {
      "cell_type": "markdown",
      "metadata": {},
      "source": [
        "- [Introduction <i class=\"bi bi-arrow-right-circle\" title=\"Get Started\"></i>](./01_introduction.ipynb)\n",
        "- [Editors <i class=\"bi bi-arrow-right-circle\" title=\"Get Started\"></i>](./02_editors.ipynb)\n",
        "- [Elements <i class=\"bi bi-arrow-right-circle\" title=\"Get Started\"></i>](./03_elements.ipynb)\n",
        "- [Attributes <i class=\"bi bi-arrow-right-circle\" title=\"Get Started\"></i>](./04_attributes.ipynb)\n",
        "- [Comments <i class=\"bi bi-arrow-right-circle\" title=\"Get Started\"></i>](./05_comments.ipynb)\n",
        "- [Styles <i class=\"bi bi-arrow-right-circle\" title=\"Get Started\"></i>](./06_styles.ipynb)\n",
        "- [Links <i class=\"bi bi-arrow-right-circle\" title=\"Get Started\"></i>](./08_links.ipynb)\n",
        "- [Images <i class=\"bi bi-arrow-right-circle\" title=\"Get Started\"></i>](./09_images.ipynb)\n",
        "- [Tables <i class=\"bi bi-arrow-right-circle\" title=\"Get Started\"></i>](./10_tables.ipynb)\n",
        "- [Lists <i class=\"bi bi-arrow-right-circle\" title=\"Get Started\"></i>](./11_lists.ipynb)\n",
        "- [Forms <i class=\"bi bi-arrow-right-circle\" title=\"Get Started\"></i>](./12_forms.ipynb)"
      ]
    },
    {
      "cell_type": "markdown",
      "metadata": {},
      "source": [
        "<p class=pb-1>\n",
        "To be among the first to hear about future updates of the course materials, simply enter your email below, follow us on <a href=\"https://x.com/deepconclusions\"><i class=\"bi bi-twitter-x\"></i>\n",
        " (formally Twitter)</a>, or subscribe to our <a href=\"https://www.youtube.com/@deepconclusions\"><i class=\"bi bi-youtube\"></i> YouTube channel</a>.\n",
        "</p>\n",
        "<iframe src=\"https://embeds.beehiiv.com/5fc7c425-9c7e-4e08-a514-ad6c22beee74?slim=true\" data-test-id=\"beehiiv-embed\" height=\"52\" frameborder=\"0\" scrolling=\"no\" style=\"margin: 0; border-radius: 0px !important; background-color: transparent; width: 100%;\" ></iframe>\n",
        "\n",
        "<script async src=\"https://pagead2.googlesyndication.com/pagead/js/adsbygoogle.js?client=ca-pub-8076040302380238\"\n",
        "     crossorigin=\"anonymous\"></script>\n",
        "<!-- inline_horizontal -->\n",
        "<ins class=\"adsbygoogle\"\n",
        "     style=\"display:block\"\n",
        "     data-ad-client=\"ca-pub-8076040302380238\"\n",
        "     data-ad-slot=\"9021194372\"\n",
        "     data-ad-format=\"auto\"\n",
        "     data-full-width-responsive=\"true\"></ins>\n",
        "<script>\n",
        "     (adsbygoogle = window.adsbygoogle || []).push({});\n",
        "</script>"
      ]
    }
  ],
  "metadata": {},
  "nbformat": 4,
  "nbformat_minor": 2
}
