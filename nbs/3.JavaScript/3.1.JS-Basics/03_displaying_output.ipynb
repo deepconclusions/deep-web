{
 "cells": [
  {
   "cell_type": "markdown",
   "metadata": {},
   "source": []
  },
  {
   "cell_type": "markdown",
   "metadata": {},
   "source": [
    "## Displaying Output"
   ]
  },
  {
   "cell_type": "markdown",
   "metadata": {},
   "source": [
    "Displaying output or generating output in JavaScript is very important expecially when learning the language\n",
    "\n",
    "For example, if you want to see if your JavaScript statements or code blocks are correct, you can output data to check\n",
    "\n",
    "In JavaScript, there are 4 ways of displaying output:"
   ]
  },
  {
   "cell_type": "markdown",
   "metadata": {},
   "source": [
    "### Writing to HTML Elements\n",
    "\n",
    "By using the `innerHTML` property, we can change the content or text of the selected element.\n",
    "\n",
    "We can use the `document.getElementById()` function to select an element\n",
    "\n",
    "<iframe width=\"100%\" height=\"300\" src=\"//jsfiddle.net/deepconclusions/6dqtxvsm/10/embedded/js,html,result/\" allowfullscreen=\"allowfullscreen\" allowpaymentrequest frameborder=\"0\"></iframe>"
   ]
  }
 ],
 "metadata": {
  "kernelspec": {
   "display_name": "python3",
   "language": "python",
   "name": "python3"
  }
 },
 "nbformat": 4,
 "nbformat_minor": 2
}
