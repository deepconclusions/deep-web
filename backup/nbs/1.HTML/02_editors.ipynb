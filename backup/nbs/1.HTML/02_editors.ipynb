{
  "cells": [
    {
      "cell_type": "markdown",
      "metadata": {},
      "source": [
        ""
      ]
    },
    {
      "cell_type": "markdown",
      "metadata": {},
      "source": [
        "## HTML Editors\n",
        "\n",
        "Creating and editing HTML files is relatively straightforward, and you can do it using a variety of tools and software. Here are some common methods and tools:\n",
        "\n",
        "1. **Text Editors**: You can use basic text editors like Notepad (Windows), TextEdit (Mac), or any other plain text editor available on your operating system. Simply open the text editor, write your HTML code, and save the file with a `.html` extension.\n",
        "\n",
        "2. **Integrated Development Environments (IDEs)**: IDEs like Visual Studio Code, Sublime Text, Atom, or Brackets provide more advanced features specifically designed for coding. They offer syntax highlighting, code completion, and various plugins/extensions for web development, making coding HTML more efficient.\n",
        "\n",
        "3. **Online HTML Editors**: Several websites offer online HTML editors where you can write and test HTML code directly in your web browser. Some popular options include CodePen, JSFiddle, and JS Bin. These platforms often provide real-time previews of your code, making it easy to see how changes affect the webpage.\n",
        "\n",
        "4. **Content Management Systems (CMS)**: If you're creating web pages for a website or blog, you might use a CMS like WordPress, Joomla, or Drupal. These platforms often have built-in editors that allow you to create and edit content using a visual interface. However, you can usually access the underlying HTML code for more precise control over the layout and design.\n",
        "\n",
        "5. **Command Line**: For more advanced users, you can use command-line text editors like Vim or Emacs to create and edit HTML files directly from the terminal or command prompt.\n",
        "\n",
        "<div class=\"alert text-white rounded\" style=\"background: #3a6e68;\"><h4>Note!</h4><p>In these tutorials, we'll use JSFiddle for editing our code and observing the results.</p></div>\n",
        "\n",
        "<script async src=\"https://pagead2.googlesyndication.com/pagead/js/adsbygoogle.js?client=ca-pub-8076040302380238\"\n",
        "     crossorigin=\"anonymous\"></script>\n",
        "<!-- inline_horizontal -->\n",
        "<ins class=\"adsbygoogle\"\n",
        "     style=\"display:block\"\n",
        "     data-ad-client=\"ca-pub-8076040302380238\"\n",
        "     data-ad-slot=\"9021194372\"\n",
        "     data-ad-format=\"auto\"\n",
        "     data-full-width-responsive=\"true\"></ins>\n",
        "<script>\n",
        "     (adsbygoogle = window.adsbygoogle || []).push({});\n",
        "</script>"
      ]
    },
    {
      "cell_type": "markdown",
      "metadata": {},
      "source": [
        "Once you've chosen a method and tool for creating/editing HTML files, you can start by:\n",
        "\n",
        "- Opening the chosen editor or tool.\n",
        "- Writing your HTML code, including tags like `<html>`, `<head>`, `<body>`, etc., to structure your webpage.\n",
        "- Adding content like text, images, links, and other HTML elements as needed.\n",
        "- Saving the file with a `.html` extension to your computer.\n",
        "\n",
        "After creating your HTML file, you can open it in a web browser to preview how it looks. Simply double-click the file, and it should open in your default web browser, displaying the webpage you've created.\n",
        "\n",
        "Remember to test your HTML code across different web browsers to ensure compatibility and to validate it using tools like the W3C Markup Validation Service to catch any errors or issues.\n",
        "\n",
        "<script async src=\"https://pagead2.googlesyndication.com/pagead/js/adsbygoogle.js?client=ca-pub-8076040302380238\"\n",
        "     crossorigin=\"anonymous\"></script>\n",
        "<!-- inline_horizontal -->\n",
        "<ins class=\"adsbygoogle\"\n",
        "     style=\"display:block\"\n",
        "     data-ad-client=\"ca-pub-8076040302380238\"\n",
        "     data-ad-slot=\"9021194372\"\n",
        "     data-ad-format=\"auto\"\n",
        "     data-full-width-responsive=\"true\"></ins>\n",
        "<script>\n",
        "     (adsbygoogle = window.adsbygoogle || []).push({});\n",
        "</script>"
      ]
    },
    {
      "cell_type": "markdown",
      "metadata": {},
      "source": [
        "<p class=pb-1>\n",
        "To be among the first to hear about future updates of the course materials, simply enter your email below, follow us on <a href=\"https://x.com/deepconclusions\"><i class=\"bi bi-twitter-x\"></i>\n",
        " (formally Twitter)</a>, or subscribe to our <a href=\"https://www.youtube.com/@deepconclusions\"><i class=\"bi bi-youtube\"></i> YouTube channel</a>.\n",
        "</p>\n",
        "<iframe src=\"https://embeds.beehiiv.com/5fc7c425-9c7e-4e08-a514-ad6c22beee74?slim=true\" data-test-id=\"beehiiv-embed\" height=\"52\" frameborder=\"0\" scrolling=\"no\" style=\"margin: 0; border-radius: 0px !important; background-color: transparent; width: 100%;\" ></iframe>\n",
        "\n",
        "<script async src=\"https://pagead2.googlesyndication.com/pagead/js/adsbygoogle.js?client=ca-pub-8076040302380238\"\n",
        "     crossorigin=\"anonymous\"></script>\n",
        "<!-- inline_horizontal -->\n",
        "<ins class=\"adsbygoogle\"\n",
        "     style=\"display:block\"\n",
        "     data-ad-client=\"ca-pub-8076040302380238\"\n",
        "     data-ad-slot=\"9021194372\"\n",
        "     data-ad-format=\"auto\"\n",
        "     data-full-width-responsive=\"true\"></ins>\n",
        "<script>\n",
        "     (adsbygoogle = window.adsbygoogle || []).push({});\n",
        "</script>"
      ]
    }
  ],
  "metadata": {},
  "nbformat": 4,
  "nbformat_minor": 2
}
