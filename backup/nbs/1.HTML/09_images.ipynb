{
  "cells": [
    {
      "cell_type": "markdown",
      "metadata": {},
      "source": [
        "---\n",
        "title: HTML Images\n",
        "keywords: [images, html, html images, deepconclusions, data science, web development, website]\n",
        "---\n",
        "<style>\n",
        "     .keywords {\n",
        "          display: none\n",
        "     }\n",
        "</style>"
      ]
    },
    {
      "cell_type": "markdown",
      "metadata": {},
      "source": [
        ""
      ]
    },
    {
      "cell_type": "markdown",
      "metadata": {},
      "source": [
        "## Images\n",
        "HTML Images are indeed needed or required for any website.\n",
        "\n",
        "Images help a web site become more attractive for visitors.\n",
        "\n",
        "Imagine a web page without even a single image, would you still browse it? Of course not.\n",
        "\n",
        "To put an image on our web site we simply need to use the `<img />` element with an `src` attribute to define the URL or the location of an image.\n",
        "\n",
        "The `<img />` is an empty and inline element.\n",
        "\n",
        "### Attribute `src`\n",
        "We use the `src` attribute to specify an image's URL or file path\n",
        "\n",
        "#### Example\n",
        "```html\n",
        "<img src=\"example.jpg\">\n",
        "```"
      ]
    },
    {
      "cell_type": "markdown",
      "metadata": {},
      "source": [
        "### Attribute `alt`\n",
        "Sometimes images may not load on the user's browser because of slow internet connection, slow server, image is deleted from directory or wrong URL value is specified in the `src` attribute.\n",
        "\n",
        "The `alt` attribute provides an alternative text for an image.\n",
        "\n",
        "#### Example\n",
        "```html\n",
        "<img src=\"deepconclusions_logo.jpg\" alt=\"deepconclusions LOGO\"/>\n",
        "```\n",
        "\n",
        "<div class=\"alert text-white rounded\" style=\"background: #3a6e68;\"><h4>Note!</h4><p>On the example above, the given URL of the image does not really exist. Therefore the alternate text is shown instead.</p></div>"
      ]
    },
    {
      "cell_type": "markdown",
      "metadata": {},
      "source": [
        "## Image Sizing (width and height)\n",
        "To resize an image we just to use the `width` attribute to change its width and the `height` attribute to change its height.\n",
        "\n",
        "The value is typically in pixels.\n",
        "\n",
        "#### Example:\n",
        "```html\n",
        "<img src=\"profile.jpg\" width=\"350\" height=\"400\" />\n",
        "```\n",
        "\n",
        "<div class=\"alert text-white rounded\" style=\"background: #3a6e68;\"><h4>Note!</h4><p>For following best practices, we can use the style attribute to resize an image with the properties width and height and the value can be in pixels as well.</p></div>\n",
        "\n",
        "#### Example:\n",
        "```html\n",
        "<img src=\"profile.jpg\" style=\"width:350px; height:400px\" />\n",
        "```\n",
        "\n",
        "<div class=\"alert text-white rounded\" style=\"background: #3a6e68;\"><h4>Note!</h4><p>As you can see the result is the same as using width and height attributes but the advantage of using the style attribute is that their width and height will not be overwritten by the style sheets.</p></div>"
      ]
    },
    {
      "cell_type": "markdown",
      "metadata": {},
      "source": [
        "## Floating Image (left of right)\n",
        "\n",
        "We can float an image to right or left side of a text.\n",
        "\n",
        "To achieve this, we need to use the `style` attribute.\n",
        "\n",
        "With the `float` CSS property. And the `left` or `right` value.\n",
        "\n",
        "Example:\n",
        "\n",
        "```html\n",
        "<p>\n",
        "    <img src=\"images/star.png\" style=\"float: left; width: 50px; height: 50px;\"> This image is floated left. This image is floated left.\n",
        "</p>\n",
        "<p>\n",
        "    <img src=\"images/star.png\" style=\"float: right; width: 50px; height: 50px;\"> This image is floated right. This image is floated right.\n",
        "</p>\n",
        "```"
      ]
    },
    {
      "cell_type": "markdown",
      "metadata": {},
      "source": [
        "## Image as a link\n",
        "\n",
        "There are some situations that we need an image to act as a link\n",
        "\n",
        "To do that, just enclose the image with an `<a>` element with its `href` attribute.\n",
        "\n",
        "#### Example\n",
        "```html\n",
        "<a href=\"https://blog.deepconclusions.com\">\n",
        "    <img src=\"blog_image.jpg\" />\n",
        "</a>\n",
        "```\n",
        "\n",
        "<div class=\"alert text-white rounded\" style=\"background: #3a6e68;\"><h4>Note!</h4><p>On the examples give above, the image used is the directory/folder as the HTML file.</p></div>"
      ]
    },
    {
      "cell_type": "markdown",
      "metadata": {},
      "source": [
        "## Image from External Server\n",
        "Sometimes we need to put images from other web sites like Facebook, Google or Imgur to our web site. \n",
        "\n",
        "Here is how to do that.\n",
        "\n",
        "#### Example\n",
        "```html\n",
        "<img src=\"https://www.example.com/image.png\">\n",
        "```\n",
        "\n",
        "## Tips!\n",
        "\n",
        "- You can use any type of image you want. For instance, if you want an animating image, you can use `.gif`.\n",
        "- Do not put a lot of images in a web page. Your page may load too slow and your visitors may leave your site and never combe back again!"
      ]
    },
    {
      "cell_type": "markdown",
      "metadata": {},
      "source": [
        "<p class=pb-1>\n",
        "To be among the first to hear about future updates of the course materials, simply enter your email below, follow us on <a href=\"https://x.com/deepconclusions\"><i class=\"bi bi-twitter-x\"></i>\n",
        " (formally Twitter)</a>, or subscribe to our <a href=\"https://www.youtube.com/@deepconclusions\"><i class=\"bi bi-youtube\"></i> YouTube channel</a>.\n",
        "</p>\n",
        "<iframe src=\"https://embeds.beehiiv.com/5fc7c425-9c7e-4e08-a514-ad6c22beee74?slim=true\" data-test-id=\"beehiiv-embed\" height=\"52\" frameborder=\"0\" scrolling=\"no\" style=\"margin: 0; border-radius: 0px !important; background-color: transparent; width: 100%;\" ></iframe>\n",
        "\n",
        "<script async src=\"https://pagead2.googlesyndication.com/pagead/js/adsbygoogle.js?client=ca-pub-8076040302380238\"\n",
        "     crossorigin=\"anonymous\"></script>\n",
        "<!-- inline_horizontal -->\n",
        "<ins class=\"adsbygoogle\"\n",
        "     style=\"display:block\"\n",
        "     data-ad-client=\"ca-pub-8076040302380238\"\n",
        "     data-ad-slot=\"9021194372\"\n",
        "     data-ad-format=\"auto\"\n",
        "     data-full-width-responsive=\"true\"></ins>\n",
        "<script>\n",
        "     (adsbygoogle = window.adsbygoogle || []).push({});\n",
        "</script>"
      ]
    }
  ],
  "metadata": {},
  "nbformat": 4,
  "nbformat_minor": 2
}
